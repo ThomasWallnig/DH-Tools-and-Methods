{
 "cells": [
  {
   "cell_type": "code",
   "execution_count": 1,
   "id": "4e83a603-58ca-4ae3-9037-90c808f221d7",
   "metadata": {},
   "outputs": [
    {
     "name": "stdin",
     "output_type": "stream",
     "text": [
      "(r)ock, (p)aper, or (s)cissors? >  r\n"
     ]
    },
    {
     "name": "stdout",
     "output_type": "stream",
     "text": [
      "You: r, Computer s. You win :-)\n"
     ]
    }
   ],
   "source": [
    "\"\"\"\n",
    "Rock - Paper - Scissors\n",
    "\"\"\"\n",
    "import random\n",
    "\n",
    "ROCK = \"r\"\n",
    "PAPER = \"p\"\n",
    "SCISSORS = \"s\"\n",
    "\n",
    "TIE = \"Tie.\"\n",
    "WIN = \"You win :-)\"\n",
    "LOSE = \"You lose :-(\"\n",
    "\n",
    "def compare_moves(you, computer):\n",
    "\tif you == computer:\n",
    "\t\treturn TIE\n",
    "\telif you == SCISSORS and computer == PAPER:\n",
    "\t\treturn WIN\n",
    "\telif you == ROCK and computer == SCISSORS:\n",
    "\t\treturn WIN\n",
    "\telif you == PAPER and computer == ROCK:\n",
    "\t\treturn WIN\n",
    "\telse:\n",
    "\t\treturn LOSE\n",
    "\n",
    "you = \"\"\n",
    "\n",
    "while you not in [ROCK, PAPER, SCISSORS]:\n",
    "    you = input(\"(r)ock, (p)aper, or (s)cissors? > \")\n",
    "\n",
    "computer = random.choice([ROCK, PAPER, SCISSORS])\n",
    "result = compare_moves(you, computer)\n",
    "\n",
    "print(f\"You: {you}, Computer {computer}. {result}\")"
   ]
  },
  {
   "cell_type": "code",
   "execution_count": null,
   "id": "f69de976-1266-4523-a843-9b8a71e30fc1",
   "metadata": {},
   "outputs": [],
   "source": []
  }
 ],
 "metadata": {
  "kernelspec": {
   "display_name": "Python 3 (ipykernel)",
   "language": "python",
   "name": "python3"
  },
  "language_info": {
   "codemirror_mode": {
    "name": "ipython",
    "version": 3
   },
   "file_extension": ".py",
   "mimetype": "text/x-python",
   "name": "python",
   "nbconvert_exporter": "python",
   "pygments_lexer": "ipython3",
   "version": "3.9.12"
  }
 },
 "nbformat": 4,
 "nbformat_minor": 5
}
